{
  "nbformat": 4,
  "nbformat_minor": 0,
  "metadata": {
    "colab": {
      "name": "Guie Pandas.ipynb",
      "provenance": [],
      "collapsed_sections": [],
      "authorship_tag": "ABX9TyMyt06k7d9QrLY+WqeDWPLJ",
      "include_colab_link": true
    },
    "kernelspec": {
      "name": "python3",
      "display_name": "Python 3"
    }
  },
  "cells": [
    {
      "cell_type": "markdown",
      "metadata": {
        "id": "view-in-github",
        "colab_type": "text"
      },
      "source": [
        "<a href=\"https://colab.research.google.com/github/dretcm/PYTHON-Notes/blob/master/Guide_Pandas.ipynb\" target=\"_parent\"><img src=\"https://colab.research.google.com/assets/colab-badge.svg\" alt=\"Open In Colab\"/></a>"
      ]
    },
    {
      "cell_type": "markdown",
      "metadata": {
        "id": "LMb8IF3HuDEp"
      },
      "source": [
        "<h1>Guie Pandas</h1>"
      ]
    },
    {
      "cell_type": "markdown",
      "metadata": {
        "id": "E9Wt2kTW0SvA"
      },
      "source": [
        "# Basic"
      ]
    },
    {
      "cell_type": "code",
      "metadata": {
        "id": "O4PhqcDS0UUR",
        "colab": {
          "base_uri": "https://localhost:8080/",
          "height": 68
        },
        "outputId": "3a3cbaf3-8e5d-4814-9266-31e5d0fb608f"
      },
      "source": [
        "import pandas as pd\n",
        "a = pd.DataFrame(np.array([(1,2,3),(4,5,6)]), columns=['c0','c1','c2'], index=['r0','r1'])\n",
        "print(a) "
      ],
      "execution_count": null,
      "outputs": [
        {
          "output_type": "stream",
          "text": [
            "    c0  c1  c2\n",
            "r0   1   2   3\n",
            "r1   4   5   6\n"
          ],
          "name": "stdout"
        }
      ]
    },
    {
      "cell_type": "code",
      "metadata": {
        "id": "Z73TkCW-1J1r",
        "colab": {
          "base_uri": "https://localhost:8080/",
          "height": 68
        },
        "outputId": "79790809-7e8d-4361-c95d-c4b36054fa71"
      },
      "source": [
        "import numpy as np\n",
        "import pandas as pd\n",
        "data = np.array([ [\" \",\"col1\",\"col2\"] , [\"fila1\",22,33] , [\"fila2\",55,16] ])\n",
        "print(pd.DataFrame(data = data[1:,1:], index = data[1:,0], columns = data[0,1:]))\n",
        "# primer [1:,1:] para los elementos a mostrar, segundo index [1:,0] para los indices de las filas, tercero[0,1:] para los indices de la columna.\n",
        "# salida:"
      ],
      "execution_count": null,
      "outputs": [
        {
          "output_type": "stream",
          "text": [
            "      col1 col2\n",
            "fila1   22   33\n",
            "fila2   55   16\n"
          ],
          "name": "stdout"
        }
      ]
    },
    {
      "cell_type": "code",
      "metadata": {
        "id": "I-c7iWVE1gn2",
        "colab": {
          "base_uri": "https://localhost:8080/",
          "height": 102
        },
        "outputId": "3fc2ac5f-799d-4c58-86ef-e50f7855eb3c"
      },
      "source": [
        "countrys = pd.Series({\"Peru\":\"Lima\",\"Argentina\":\"Buenas Aires\",\n",
        "                  \"Chile\":\"San Tiago\",\"Mexico\":\"Mexico CD o DF\"})\n",
        "print(countrys)"
      ],
      "execution_count": null,
      "outputs": [
        {
          "output_type": "stream",
          "text": [
            "Peru                   Lima\n",
            "Argentina      Buenas Aires\n",
            "Chile             San Tiago\n",
            "Mexico       Mexico CD o DF\n",
            "dtype: object\n"
          ],
          "name": "stdout"
        }
      ]
    },
    {
      "cell_type": "code",
      "metadata": {
        "id": "bFY6od5i1qrh",
        "colab": {
          "base_uri": "https://localhost:8080/",
          "height": 34
        },
        "outputId": "efc5a87d-8636-4f29-ba2c-7cf8d922a0e0"
      },
      "source": [
        "a = pd.DataFrame(np.array([(1,2,3),(4,5,6)]))\n",
        "print(a.shape)  # imprime el tipo de martriz en ese caso es \"2X3\""
      ],
      "execution_count": null,
      "outputs": [
        {
          "output_type": "stream",
          "text": [
            "(2, 3)\n"
          ],
          "name": "stdout"
        }
      ]
    },
    {
      "cell_type": "code",
      "metadata": {
        "id": "-hQ0vF8m1uRq",
        "colab": {
          "base_uri": "https://localhost:8080/",
          "height": 51
        },
        "outputId": "b45b1943-3759-4318-8df8-566a9fe02438"
      },
      "source": [
        "a = pd.DataFrame(np.array([(1,2,3),(4,5,6)]))\n",
        "print(a.index) # number of rows\n",
        "print(len(a.index))"
      ],
      "execution_count": null,
      "outputs": [
        {
          "output_type": "stream",
          "text": [
            "RangeIndex(start=0, stop=2, step=1)\n",
            "2\n"
          ],
          "name": "stdout"
        }
      ]
    },
    {
      "cell_type": "code",
      "metadata": {
        "id": "bh0kSePo1_jO",
        "colab": {
          "base_uri": "https://localhost:8080/",
          "height": 170
        },
        "outputId": "e2ae99a7-5da3-4887-d9ca-2038cc933263"
      },
      "source": [
        "a = pd.DataFrame(np.array([(1,2,3),(4,5,6)]))\n",
        "print(a.describe())   #Esadisticas del Frame o matriz."
      ],
      "execution_count": null,
      "outputs": [
        {
          "output_type": "stream",
          "text": [
            "             0        1        2\n",
            "count  2.00000  2.00000  2.00000\n",
            "mean   2.50000  3.50000  4.50000\n",
            "std    2.12132  2.12132  2.12132\n",
            "min    1.00000  2.00000  3.00000\n",
            "25%    1.75000  2.75000  3.75000\n",
            "50%    2.50000  3.50000  4.50000\n",
            "75%    3.25000  4.25000  5.25000\n",
            "max    4.00000  5.00000  6.00000\n"
          ],
          "name": "stdout"
        }
      ]
    },
    {
      "cell_type": "code",
      "metadata": {
        "id": "xssbM7l_2CzH",
        "colab": {
          "base_uri": "https://localhost:8080/",
          "height": 85
        },
        "outputId": "651dcf32-159d-4806-e91c-28d43cc3386d"
      },
      "source": [
        "a = pd.DataFrame(np.array([(1,2,3),(4,5,6),(7,8,9)]))\n",
        "print(a.mean())  # imprime la media de cada columna."
      ],
      "execution_count": null,
      "outputs": [
        {
          "output_type": "stream",
          "text": [
            "0    4.0\n",
            "1    5.0\n",
            "2    6.0\n",
            "dtype: float64\n"
          ],
          "name": "stdout"
        }
      ]
    },
    {
      "cell_type": "code",
      "metadata": {
        "id": "xM2iORbe2QJI",
        "colab": {
          "base_uri": "https://localhost:8080/",
          "height": 85
        },
        "outputId": "4c1883c4-2e36-472a-813a-59b6db0adafb"
      },
      "source": [
        "a = pd.DataFrame(np.array([(1,2,3),(4,5,6),(7,8,9)]))\n",
        "print(a.corr())  #para mostrar todas las coorrelaciones entre los numeros."
      ],
      "execution_count": null,
      "outputs": [
        {
          "output_type": "stream",
          "text": [
            "     0    1    2\n",
            "0  1.0  1.0  1.0\n",
            "1  1.0  1.0  1.0\n",
            "2  1.0  1.0  1.0\n"
          ],
          "name": "stdout"
        }
      ]
    },
    {
      "cell_type": "code",
      "metadata": {
        "id": "Hwl_VJF02U1G",
        "colab": {
          "base_uri": "https://localhost:8080/",
          "height": 221
        },
        "outputId": "f7a4c146-6e74-4ac8-826a-7c2a9348a3b0"
      },
      "source": [
        "a = pd.DataFrame(np.array([(1,2,3),(4,None,6),(7,None,None)]), columns=['c0','c1','c2'], index=['r0','r1','r2'])\n",
        "print(a)\n",
        "print(a.count(axis=0))  #para mostrar la cantidad de los valores no nulos en las columnas(0) o filas(1).\n",
        "print(a.count(axis=1))"
      ],
      "execution_count": null,
      "outputs": [
        {
          "output_type": "stream",
          "text": [
            "   c0    c1    c2\n",
            "r0  1     2     3\n",
            "r1  4  None     6\n",
            "r2  7  None  None\n",
            "c0    3\n",
            "c1    1\n",
            "c2    2\n",
            "dtype: int64\n",
            "r0    3\n",
            "r1    2\n",
            "r2    1\n",
            "dtype: int64\n"
          ],
          "name": "stdout"
        }
      ]
    },
    {
      "cell_type": "code",
      "metadata": {
        "id": "hIqEJfqhAhah",
        "colab": {
          "base_uri": "https://localhost:8080/",
          "height": 85
        },
        "outputId": "2a5649e3-7cad-40a6-f88f-012a86b09913"
      },
      "source": [
        "print(a.fillna(1001)) # fill values nan with (parameter)"
      ],
      "execution_count": null,
      "outputs": [
        {
          "output_type": "stream",
          "text": [
            "    c0    c1    c2\n",
            "r0   1     2     3\n",
            "r1   4  1001     6\n",
            "r2   7  1001  1001\n"
          ],
          "name": "stdout"
        }
      ]
    },
    {
      "cell_type": "code",
      "metadata": {
        "id": "JlABfLXFFTac",
        "colab": {
          "base_uri": "https://localhost:8080/",
          "height": 85
        },
        "outputId": "21ae4c52-61d4-4522-d6f0-11aa6bcdeb65"
      },
      "source": [
        "print(a.replace(np.nan, 'hello'))"
      ],
      "execution_count": null,
      "outputs": [
        {
          "output_type": "stream",
          "text": [
            "    c0     c1     c2\n",
            "r0   1      2      3\n",
            "r1   4  hello      6\n",
            "r2   7  hello  hello\n"
          ],
          "name": "stdout"
        }
      ]
    },
    {
      "cell_type": "code",
      "metadata": {
        "id": "wlNWyUe63iuD",
        "colab": {
          "base_uri": "https://localhost:8080/",
          "height": 85
        },
        "outputId": "643320fb-dca1-4c2d-eeed-b9bac39cfa40"
      },
      "source": [
        "a = pd.DataFrame(np.array([(1,2,3),(4,5,6),(7,8,9)]))\n",
        "print(a.max(axis=0))  #para mostrar el valor mas alto en columnas(axis=0), filas(axis=1)."
      ],
      "execution_count": null,
      "outputs": [
        {
          "output_type": "stream",
          "text": [
            "0    7\n",
            "1    8\n",
            "2    9\n",
            "dtype: int64\n"
          ],
          "name": "stdout"
        }
      ]
    },
    {
      "cell_type": "code",
      "metadata": {
        "id": "5wvz2zpL4YHt",
        "colab": {
          "base_uri": "https://localhost:8080/",
          "height": 85
        },
        "outputId": "59346d99-f5b3-41bd-f6bc-33917a95f240"
      },
      "source": [
        "a = pd.DataFrame(np.array([(1,2,3),(4,5,6),(7,8,9)]))\n",
        "print(a.min())  #para mostrar el valor mas bajo."
      ],
      "execution_count": null,
      "outputs": [
        {
          "output_type": "stream",
          "text": [
            "0    1\n",
            "1    2\n",
            "2    3\n",
            "dtype: int64\n"
          ],
          "name": "stdout"
        }
      ]
    },
    {
      "cell_type": "code",
      "metadata": {
        "id": "AtBdeL9S4dC1",
        "colab": {
          "base_uri": "https://localhost:8080/",
          "height": 85
        },
        "outputId": "1a602c57-59a4-4669-e5b8-f74daa183dd4"
      },
      "source": [
        "a = pd.DataFrame(np.array([(1,2,3),(4,5,6),(7,8,9)]))\n",
        "print(a.median())  #para mostrar la mediana."
      ],
      "execution_count": null,
      "outputs": [
        {
          "output_type": "stream",
          "text": [
            "0    4.0\n",
            "1    5.0\n",
            "2    6.0\n",
            "dtype: float64\n"
          ],
          "name": "stdout"
        }
      ]
    },
    {
      "cell_type": "code",
      "metadata": {
        "id": "g3pdYPHh4ptk",
        "colab": {
          "base_uri": "https://localhost:8080/",
          "height": 85
        },
        "outputId": "2a20c795-6d5d-49d1-c7e1-134bbfa4a80c"
      },
      "source": [
        "a = pd.DataFrame(np.array([(1,2,3),(4,5,6),(7,8,9)]))\n",
        "print(a.mean())  #para mostrar la media."
      ],
      "execution_count": null,
      "outputs": [
        {
          "output_type": "stream",
          "text": [
            "0    4.0\n",
            "1    5.0\n",
            "2    6.0\n",
            "dtype: float64\n"
          ],
          "name": "stdout"
        }
      ]
    },
    {
      "cell_type": "code",
      "metadata": {
        "id": "TTnatIUK4gkL",
        "colab": {
          "base_uri": "https://localhost:8080/",
          "height": 85
        },
        "outputId": "b013bb91-41d6-4529-8c5c-0cd50efdc84e"
      },
      "source": [
        "a = pd.DataFrame(np.array([(1,2,3),(4,5,6),(7,8,9)]))\n",
        "print(a.std())  #para mostrar la desviacion estandar."
      ],
      "execution_count": null,
      "outputs": [
        {
          "output_type": "stream",
          "text": [
            "0    3.0\n",
            "1    3.0\n",
            "2    3.0\n",
            "dtype: float64\n"
          ],
          "name": "stdout"
        }
      ]
    },
    {
      "cell_type": "code",
      "metadata": {
        "id": "EjKoI25y-U6O",
        "colab": {
          "base_uri": "https://localhost:8080/",
          "height": 68
        },
        "outputId": "dce65723-fb08-4f6f-c6c9-0a25bf1916bc"
      },
      "source": [
        "a = pd.DataFrame(np.array([(1,2,3),(4,5,6),(7,8,9)]))\n",
        "print(a.iloc[[0,2],:2]) # rows and columns"
      ],
      "execution_count": null,
      "outputs": [
        {
          "output_type": "stream",
          "text": [
            "   0  1\n",
            "0  1  2\n",
            "2  7  8\n"
          ],
          "name": "stdout"
        }
      ]
    },
    {
      "cell_type": "code",
      "metadata": {
        "id": "tz18_7pQ-eZe",
        "colab": {
          "base_uri": "https://localhost:8080/",
          "height": 68
        },
        "outputId": "1333b9a1-c81f-4dc7-cc6a-abc97214402f"
      },
      "source": [
        "a = pd.DataFrame(np.array([(1,2,3),(4,5,6),(7,8,9)]),columns=['c1','c2','c3'])\n",
        "print(a.loc[[0,2]]) # rows"
      ],
      "execution_count": null,
      "outputs": [
        {
          "output_type": "stream",
          "text": [
            "   c1  c2  c3\n",
            "0   1   2   3\n",
            "2   7   8   9\n"
          ],
          "name": "stdout"
        }
      ]
    },
    {
      "cell_type": "code",
      "metadata": {
        "id": "xmhRODE44ui8",
        "colab": {
          "base_uri": "https://localhost:8080/",
          "height": 85
        },
        "outputId": "f33d4cc6-1711-4f7d-e972-d6d9d8f6a6c0"
      },
      "source": [
        "#@title Functions\n",
        "a = pd.DataFrame(np.array([(1,2,3),(4,5,6),(7,8,9)]),columns=['c0','c1','c2'], index=['r0','r1','r2'])\n",
        "a.iloc[0] = a.apply(lambda x: x[0] + 10)\n",
        "a.loc['r0'] = a.apply(lambda x: x[0] + 10)\n",
        "a['average'] = a.apply(lambda x: x[0] + x[1] + x[2], axis=1)\n",
        "print(a)"
      ],
      "execution_count": null,
      "outputs": [
        {
          "output_type": "stream",
          "text": [
            "    c0  c1  c2  average\n",
            "r0  21  22  23       66\n",
            "r1   4   5   6       15\n",
            "r2   7   8   9       24\n"
          ],
          "name": "stdout"
        }
      ]
    },
    {
      "cell_type": "code",
      "metadata": {
        "id": "xh1LlUdgA7wl",
        "colab": {
          "base_uri": "https://localhost:8080/",
          "height": 85
        },
        "outputId": "16419232-1c5b-4073-bd6f-55d8bebce384"
      },
      "source": [
        "#@title Rename\n",
        "a.rename(columns={'average':'Prom'}, inplace=True)\n",
        "print(a)"
      ],
      "execution_count": null,
      "outputs": [
        {
          "output_type": "stream",
          "text": [
            "    c0  c1  c2  Prom\n",
            "r0  21  22  23    66\n",
            "r1   4   5   6    15\n",
            "r2   7   8   9    24\n"
          ],
          "name": "stdout"
        }
      ]
    },
    {
      "cell_type": "code",
      "metadata": {
        "id": "JjntOB8IGj4L",
        "colab": {
          "base_uri": "https://localhost:8080/",
          "height": 187
        },
        "outputId": "a46b8b36-d9b1-448b-8b2d-c675f2d5bf9f"
      },
      "source": [
        "df1 = pd.DataFrame({'lkey': ['foo', 'bar', 'baz', 'foo'],\n",
        "                    'value': [1, 2, 3, 5]})\n",
        "df2 = pd.DataFrame({'rkey': ['foo', 'bar', 'baz', 'foo'],\n",
        "                    'value': [5, 6, 7, 8]})\n",
        "print(df1,'\\n',df2)"
      ],
      "execution_count": null,
      "outputs": [
        {
          "output_type": "stream",
          "text": [
            "  lkey  value\n",
            "0  foo      1\n",
            "1  bar      2\n",
            "2  baz      3\n",
            "3  foo      5 \n",
            "   rkey  value\n",
            "0  foo      5\n",
            "1  bar      6\n",
            "2  baz      7\n",
            "3  foo      8\n"
          ],
          "name": "stdout"
        }
      ]
    },
    {
      "cell_type": "code",
      "metadata": {
        "id": "qX6KuNFsJqih",
        "colab": {
          "base_uri": "https://localhost:8080/",
          "height": 235
        },
        "outputId": "64d056d4-f5a6-4f85-b4c9-bb678e5eba4d"
      },
      "source": [
        "# Merge df1 and df2 on the lkey and rkey columns. The value columns have the default suffixes, _x and _y, appended.\n",
        "df1.merge(df2, left_on='lkey', right_on='rkey')"
      ],
      "execution_count": null,
      "outputs": [
        {
          "output_type": "execute_result",
          "data": {
            "text/html": [
              "<div>\n",
              "<style scoped>\n",
              "    .dataframe tbody tr th:only-of-type {\n",
              "        vertical-align: middle;\n",
              "    }\n",
              "\n",
              "    .dataframe tbody tr th {\n",
              "        vertical-align: top;\n",
              "    }\n",
              "\n",
              "    .dataframe thead th {\n",
              "        text-align: right;\n",
              "    }\n",
              "</style>\n",
              "<table border=\"1\" class=\"dataframe\">\n",
              "  <thead>\n",
              "    <tr style=\"text-align: right;\">\n",
              "      <th></th>\n",
              "      <th>lkey</th>\n",
              "      <th>value_x</th>\n",
              "      <th>rkey</th>\n",
              "      <th>value_y</th>\n",
              "    </tr>\n",
              "  </thead>\n",
              "  <tbody>\n",
              "    <tr>\n",
              "      <th>0</th>\n",
              "      <td>foo</td>\n",
              "      <td>1</td>\n",
              "      <td>foo</td>\n",
              "      <td>5</td>\n",
              "    </tr>\n",
              "    <tr>\n",
              "      <th>1</th>\n",
              "      <td>foo</td>\n",
              "      <td>1</td>\n",
              "      <td>foo</td>\n",
              "      <td>8</td>\n",
              "    </tr>\n",
              "    <tr>\n",
              "      <th>2</th>\n",
              "      <td>foo</td>\n",
              "      <td>5</td>\n",
              "      <td>foo</td>\n",
              "      <td>5</td>\n",
              "    </tr>\n",
              "    <tr>\n",
              "      <th>3</th>\n",
              "      <td>foo</td>\n",
              "      <td>5</td>\n",
              "      <td>foo</td>\n",
              "      <td>8</td>\n",
              "    </tr>\n",
              "    <tr>\n",
              "      <th>4</th>\n",
              "      <td>bar</td>\n",
              "      <td>2</td>\n",
              "      <td>bar</td>\n",
              "      <td>6</td>\n",
              "    </tr>\n",
              "    <tr>\n",
              "      <th>5</th>\n",
              "      <td>baz</td>\n",
              "      <td>3</td>\n",
              "      <td>baz</td>\n",
              "      <td>7</td>\n",
              "    </tr>\n",
              "  </tbody>\n",
              "</table>\n",
              "</div>"
            ],
            "text/plain": [
              "  lkey  value_x rkey  value_y\n",
              "0  foo        1  foo        5\n",
              "1  foo        1  foo        8\n",
              "2  foo        5  foo        5\n",
              "3  foo        5  foo        8\n",
              "4  bar        2  bar        6\n",
              "5  baz        3  baz        7"
            ]
          },
          "metadata": {
            "tags": []
          },
          "execution_count": 201
        }
      ]
    },
    {
      "cell_type": "markdown",
      "metadata": {
        "id": "zJ4oTAaiuLZR"
      },
      "source": [
        "# Replace Excel If Function with Python Pandas"
      ]
    },
    {
      "cell_type": "code",
      "metadata": {
        "id": "aUD4g-EltkeM"
      },
      "source": [
        "import pandas as pd\n",
        "import numpy as np"
      ],
      "execution_count": null,
      "outputs": []
    },
    {
      "cell_type": "code",
      "metadata": {
        "id": "7fGhTwIJuamJ",
        "colab": {
          "base_uri": "https://localhost:8080/",
          "height": 204
        },
        "outputId": "9aa19b64-0d97-4f8d-cd34-32cb05aa0f83"
      },
      "source": [
        "data = pd.read_excel('/content/sample_scores.xlsx')\n",
        "data.head()"
      ],
      "execution_count": null,
      "outputs": [
        {
          "output_type": "execute_result",
          "data": {
            "text/html": [
              "<div>\n",
              "<style scoped>\n",
              "    .dataframe tbody tr th:only-of-type {\n",
              "        vertical-align: middle;\n",
              "    }\n",
              "\n",
              "    .dataframe tbody tr th {\n",
              "        vertical-align: top;\n",
              "    }\n",
              "\n",
              "    .dataframe thead th {\n",
              "        text-align: right;\n",
              "    }\n",
              "</style>\n",
              "<table border=\"1\" class=\"dataframe\">\n",
              "  <thead>\n",
              "    <tr style=\"text-align: right;\">\n",
              "      <th></th>\n",
              "      <th>Name</th>\n",
              "      <th>Test 1</th>\n",
              "      <th>Test 2</th>\n",
              "    </tr>\n",
              "  </thead>\n",
              "  <tbody>\n",
              "    <tr>\n",
              "      <th>0</th>\n",
              "      <td>Derrick</td>\n",
              "      <td>45</td>\n",
              "      <td>34</td>\n",
              "    </tr>\n",
              "    <tr>\n",
              "      <th>1</th>\n",
              "      <td>Keanan</td>\n",
              "      <td>67</td>\n",
              "      <td>85</td>\n",
              "    </tr>\n",
              "    <tr>\n",
              "      <th>2</th>\n",
              "      <td>Jacque</td>\n",
              "      <td>89</td>\n",
              "      <td>95</td>\n",
              "    </tr>\n",
              "    <tr>\n",
              "      <th>3</th>\n",
              "      <td>Theo</td>\n",
              "      <td>64</td>\n",
              "      <td>97</td>\n",
              "    </tr>\n",
              "    <tr>\n",
              "      <th>4</th>\n",
              "      <td>Henry</td>\n",
              "      <td>58</td>\n",
              "      <td>66</td>\n",
              "    </tr>\n",
              "  </tbody>\n",
              "</table>\n",
              "</div>"
            ],
            "text/plain": [
              "      Name  Test 1  Test 2\n",
              "0  Derrick      45      34\n",
              "1   Keanan      67      85\n",
              "2   Jacque      89      95\n",
              "3     Theo      64      97\n",
              "4    Henry      58      66"
            ]
          },
          "metadata": {
            "tags": []
          },
          "execution_count": 2
        }
      ]
    },
    {
      "cell_type": "code",
      "metadata": {
        "id": "tipdqYR1uynx",
        "colab": {
          "base_uri": "https://localhost:8080/",
          "height": 204
        },
        "outputId": "a9fba86f-73a7-4739-caa9-de09b6391835"
      },
      "source": [
        "data['average'] = data.mean(axis=1)\n",
        "data.head()"
      ],
      "execution_count": null,
      "outputs": [
        {
          "output_type": "execute_result",
          "data": {
            "text/html": [
              "<div>\n",
              "<style scoped>\n",
              "    .dataframe tbody tr th:only-of-type {\n",
              "        vertical-align: middle;\n",
              "    }\n",
              "\n",
              "    .dataframe tbody tr th {\n",
              "        vertical-align: top;\n",
              "    }\n",
              "\n",
              "    .dataframe thead th {\n",
              "        text-align: right;\n",
              "    }\n",
              "</style>\n",
              "<table border=\"1\" class=\"dataframe\">\n",
              "  <thead>\n",
              "    <tr style=\"text-align: right;\">\n",
              "      <th></th>\n",
              "      <th>Name</th>\n",
              "      <th>Test 1</th>\n",
              "      <th>Test 2</th>\n",
              "      <th>average</th>\n",
              "    </tr>\n",
              "  </thead>\n",
              "  <tbody>\n",
              "    <tr>\n",
              "      <th>0</th>\n",
              "      <td>Derrick</td>\n",
              "      <td>45</td>\n",
              "      <td>34</td>\n",
              "      <td>39.5</td>\n",
              "    </tr>\n",
              "    <tr>\n",
              "      <th>1</th>\n",
              "      <td>Keanan</td>\n",
              "      <td>67</td>\n",
              "      <td>85</td>\n",
              "      <td>76.0</td>\n",
              "    </tr>\n",
              "    <tr>\n",
              "      <th>2</th>\n",
              "      <td>Jacque</td>\n",
              "      <td>89</td>\n",
              "      <td>95</td>\n",
              "      <td>92.0</td>\n",
              "    </tr>\n",
              "    <tr>\n",
              "      <th>3</th>\n",
              "      <td>Theo</td>\n",
              "      <td>64</td>\n",
              "      <td>97</td>\n",
              "      <td>80.5</td>\n",
              "    </tr>\n",
              "    <tr>\n",
              "      <th>4</th>\n",
              "      <td>Henry</td>\n",
              "      <td>58</td>\n",
              "      <td>66</td>\n",
              "      <td>62.0</td>\n",
              "    </tr>\n",
              "  </tbody>\n",
              "</table>\n",
              "</div>"
            ],
            "text/plain": [
              "      Name  Test 1  Test 2  average\n",
              "0  Derrick      45      34     39.5\n",
              "1   Keanan      67      85     76.0\n",
              "2   Jacque      89      95     92.0\n",
              "3     Theo      64      97     80.5\n",
              "4    Henry      58      66     62.0"
            ]
          },
          "metadata": {
            "tags": []
          },
          "execution_count": 3
        }
      ]
    },
    {
      "cell_type": "code",
      "metadata": {
        "id": "Qd0f99v7vWTA",
        "colab": {
          "base_uri": "https://localhost:8080/",
          "height": 204
        },
        "outputId": "b5b571d1-bd31-40b2-db52-80e6c6130e24"
      },
      "source": [
        "#@title One Condition\n",
        "data['pass/fail'] = np.where(data['average'] > 60, 'pass', 'fail')\n",
        "data.head()"
      ],
      "execution_count": null,
      "outputs": [
        {
          "output_type": "execute_result",
          "data": {
            "text/html": [
              "<div>\n",
              "<style scoped>\n",
              "    .dataframe tbody tr th:only-of-type {\n",
              "        vertical-align: middle;\n",
              "    }\n",
              "\n",
              "    .dataframe tbody tr th {\n",
              "        vertical-align: top;\n",
              "    }\n",
              "\n",
              "    .dataframe thead th {\n",
              "        text-align: right;\n",
              "    }\n",
              "</style>\n",
              "<table border=\"1\" class=\"dataframe\">\n",
              "  <thead>\n",
              "    <tr style=\"text-align: right;\">\n",
              "      <th></th>\n",
              "      <th>Name</th>\n",
              "      <th>Test 1</th>\n",
              "      <th>Test 2</th>\n",
              "      <th>average</th>\n",
              "      <th>pass/fail</th>\n",
              "    </tr>\n",
              "  </thead>\n",
              "  <tbody>\n",
              "    <tr>\n",
              "      <th>0</th>\n",
              "      <td>Derrick</td>\n",
              "      <td>45</td>\n",
              "      <td>34</td>\n",
              "      <td>39.5</td>\n",
              "      <td>fail</td>\n",
              "    </tr>\n",
              "    <tr>\n",
              "      <th>1</th>\n",
              "      <td>Keanan</td>\n",
              "      <td>67</td>\n",
              "      <td>85</td>\n",
              "      <td>76.0</td>\n",
              "      <td>pass</td>\n",
              "    </tr>\n",
              "    <tr>\n",
              "      <th>2</th>\n",
              "      <td>Jacque</td>\n",
              "      <td>89</td>\n",
              "      <td>95</td>\n",
              "      <td>92.0</td>\n",
              "      <td>pass</td>\n",
              "    </tr>\n",
              "    <tr>\n",
              "      <th>3</th>\n",
              "      <td>Theo</td>\n",
              "      <td>64</td>\n",
              "      <td>97</td>\n",
              "      <td>80.5</td>\n",
              "      <td>pass</td>\n",
              "    </tr>\n",
              "    <tr>\n",
              "      <th>4</th>\n",
              "      <td>Henry</td>\n",
              "      <td>58</td>\n",
              "      <td>66</td>\n",
              "      <td>62.0</td>\n",
              "      <td>pass</td>\n",
              "    </tr>\n",
              "  </tbody>\n",
              "</table>\n",
              "</div>"
            ],
            "text/plain": [
              "      Name  Test 1  Test 2  average pass/fail\n",
              "0  Derrick      45      34     39.5      fail\n",
              "1   Keanan      67      85     76.0      pass\n",
              "2   Jacque      89      95     92.0      pass\n",
              "3     Theo      64      97     80.5      pass\n",
              "4    Henry      58      66     62.0      pass"
            ]
          },
          "metadata": {
            "tags": []
          },
          "execution_count": 4
        }
      ]
    },
    {
      "cell_type": "code",
      "metadata": {
        "id": "Hp-bcknOyVpc"
      },
      "source": [
        "data = data.drop(['pass/fail'], axis = 1)"
      ],
      "execution_count": null,
      "outputs": []
    },
    {
      "cell_type": "code",
      "metadata": {
        "id": "fZk5UiBkwHJA",
        "colab": {
          "base_uri": "https://localhost:8080/",
          "height": 204
        },
        "outputId": "7ea06d8c-c5fa-46d6-bd87-7a1bf48b2a70"
      },
      "source": [
        "#@title Multiple Conditions\n",
        "conditions = [\n",
        "              (data['average'] >= 90),\n",
        "              (data['average'] < 90) & (data['average'] >= 80),\n",
        "              (data['average'] < 80) & (data['average'] >= 70),\n",
        "              (data['average'] < 70) & (data['average'] >= 60),\n",
        "              (data['average'] < 60)\n",
        "]\n",
        "\n",
        "results = ['A','B','C','D','F']\n",
        "\n",
        "data['Grade'] = np.select(conditions, results)\n",
        "\n",
        "data['pass/fail'] = ['pass' if x > 60 else 'fail' for x in data['average']]\n",
        "\n",
        "data.head()"
      ],
      "execution_count": null,
      "outputs": [
        {
          "output_type": "execute_result",
          "data": {
            "text/html": [
              "<div>\n",
              "<style scoped>\n",
              "    .dataframe tbody tr th:only-of-type {\n",
              "        vertical-align: middle;\n",
              "    }\n",
              "\n",
              "    .dataframe tbody tr th {\n",
              "        vertical-align: top;\n",
              "    }\n",
              "\n",
              "    .dataframe thead th {\n",
              "        text-align: right;\n",
              "    }\n",
              "</style>\n",
              "<table border=\"1\" class=\"dataframe\">\n",
              "  <thead>\n",
              "    <tr style=\"text-align: right;\">\n",
              "      <th></th>\n",
              "      <th>Name</th>\n",
              "      <th>Test 1</th>\n",
              "      <th>Test 2</th>\n",
              "      <th>average</th>\n",
              "      <th>Grade</th>\n",
              "      <th>pass/fail</th>\n",
              "    </tr>\n",
              "  </thead>\n",
              "  <tbody>\n",
              "    <tr>\n",
              "      <th>0</th>\n",
              "      <td>Derrick</td>\n",
              "      <td>45</td>\n",
              "      <td>34</td>\n",
              "      <td>39.5</td>\n",
              "      <td>F</td>\n",
              "      <td>fail</td>\n",
              "    </tr>\n",
              "    <tr>\n",
              "      <th>1</th>\n",
              "      <td>Keanan</td>\n",
              "      <td>67</td>\n",
              "      <td>85</td>\n",
              "      <td>76.0</td>\n",
              "      <td>C</td>\n",
              "      <td>pass</td>\n",
              "    </tr>\n",
              "    <tr>\n",
              "      <th>2</th>\n",
              "      <td>Jacque</td>\n",
              "      <td>89</td>\n",
              "      <td>95</td>\n",
              "      <td>92.0</td>\n",
              "      <td>A</td>\n",
              "      <td>pass</td>\n",
              "    </tr>\n",
              "    <tr>\n",
              "      <th>3</th>\n",
              "      <td>Theo</td>\n",
              "      <td>64</td>\n",
              "      <td>97</td>\n",
              "      <td>80.5</td>\n",
              "      <td>B</td>\n",
              "      <td>pass</td>\n",
              "    </tr>\n",
              "    <tr>\n",
              "      <th>4</th>\n",
              "      <td>Henry</td>\n",
              "      <td>58</td>\n",
              "      <td>66</td>\n",
              "      <td>62.0</td>\n",
              "      <td>D</td>\n",
              "      <td>pass</td>\n",
              "    </tr>\n",
              "  </tbody>\n",
              "</table>\n",
              "</div>"
            ],
            "text/plain": [
              "      Name  Test 1  Test 2  average Grade pass/fail\n",
              "0  Derrick      45      34     39.5     F      fail\n",
              "1   Keanan      67      85     76.0     C      pass\n",
              "2   Jacque      89      95     92.0     A      pass\n",
              "3     Theo      64      97     80.5     B      pass\n",
              "4    Henry      58      66     62.0     D      pass"
            ]
          },
          "metadata": {
            "tags": []
          },
          "execution_count": 6
        }
      ]
    },
    {
      "cell_type": "code",
      "metadata": {
        "colab": {
          "base_uri": "https://localhost:8080/"
        },
        "id": "Qg00PcuKuRxF",
        "outputId": "07fb554e-0209-4549-df3c-f2779cddabf7"
      },
      "source": [
        "F = dict (zip( set (data['Grade']), list (map(lambda x: list (data['Grade']).count(x), list (set (data['Grade'])) )) ))\r\n",
        "F"
      ],
      "execution_count": null,
      "outputs": [
        {
          "output_type": "execute_result",
          "data": {
            "text/plain": [
              "{'A': 2, 'B': 5, 'C': 8, 'D': 3, 'F': 1}"
            ]
          },
          "metadata": {
            "tags": []
          },
          "execution_count": 24
        }
      ]
    },
    {
      "cell_type": "code",
      "metadata": {
        "colab": {
          "base_uri": "https://localhost:8080/"
        },
        "id": "atxfcPkO676A",
        "outputId": "bac055d7-391b-4edf-eff9-cd25a63eb91c"
      },
      "source": [
        "coff = {}\r\n",
        "\r\n",
        "for i in data['Grade']:\r\n",
        "  if i not in coff:\r\n",
        "    coff[i] = 1\r\n",
        "  else:\r\n",
        "    coff[i] += 1\r\n",
        "coff"
      ],
      "execution_count": null,
      "outputs": [
        {
          "output_type": "execute_result",
          "data": {
            "text/plain": [
              "{'A': 2, 'B': 5, 'C': 8, 'D': 3, 'F': 1}"
            ]
          },
          "metadata": {
            "tags": []
          },
          "execution_count": 28
        }
      ]
    }
  ]
}